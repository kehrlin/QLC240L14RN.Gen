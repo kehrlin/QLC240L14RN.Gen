{
  "nbformat": 4,
  "nbformat_minor": 0,
  "metadata": {
    "colab": {
      "provenance": [],
      "authorship_tag": "ABX9TyN3/pJJoc9LrLG65YijBK33",
      "include_colab_link": true
    },
    "kernelspec": {
      "name": "python3",
      "display_name": "Python 3"
    },
    "language_info": {
      "name": "python"
    }
  },
  "cells": [
    {
      "cell_type": "markdown",
      "metadata": {
        "id": "view-in-github",
        "colab_type": "text"
      },
      "source": [
        "<a href=\"https://colab.research.google.com/github/kehrlin/QLC240L14RN.Gen/blob/main/RNGEN.ipynb\" target=\"_parent\"><img src=\"https://colab.research.google.com/assets/colab-badge.svg\" alt=\"Open In Colab\"/></a>"
      ]
    },
    {
      "cell_type": "code",
      "execution_count": 5,
      "metadata": {
        "id": "V5Pop9y5yjsu"
      },
      "outputs": [],
      "source": [
        "Names = ['Maddie', 'Phil','Ty', 'Nolan', 'Annabelle','Zoe', 'Karoline']"
      ]
    },
    {
      "cell_type": "code",
      "source": [
        "import random\n",
        "my_list = [Names]\n",
        "random.shuffle(Names)\n",
        "print(my_list)"
      ],
      "metadata": {
        "colab": {
          "base_uri": "https://localhost:8080/"
        },
        "id": "xy9Dwakd16LE",
        "outputId": "7ff91c4c-62d5-4c3f-c1c7-84d04fa5fa40"
      },
      "execution_count": 22,
      "outputs": [
        {
          "output_type": "stream",
          "name": "stdout",
          "text": [
            "[['Nolan', 'Annabelle', 'Maddie', 'Ty', 'Phil', 'Karoline', 'Zoe']]\n"
          ]
        }
      ]
    }
  ]
}